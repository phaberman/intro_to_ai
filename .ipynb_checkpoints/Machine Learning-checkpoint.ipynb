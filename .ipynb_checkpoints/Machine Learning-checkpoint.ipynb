{
 "cells": [
  {
   "cell_type": "markdown",
   "id": "7c808a72",
   "metadata": {},
   "source": [
    "# Predicting an Employee's Salary"
   ]
  },
  {
   "cell_type": "markdown",
   "id": "9279e809",
   "metadata": {},
   "source": [
    "## Import Libraries"
   ]
  },
  {
   "cell_type": "code",
   "execution_count": 132,
   "id": "ab4e87bf",
   "metadata": {},
   "outputs": [],
   "source": [
    "import pandas as pd\n",
    "from sklearn.linear_model import LinearRegression"
   ]
  },
  {
   "cell_type": "markdown",
   "id": "5facea0e",
   "metadata": {},
   "source": [
    "## Load Data"
   ]
  },
  {
   "cell_type": "markdown",
   "id": "b359fbc8",
   "metadata": {},
   "source": [
    "First, we need to load our data about employee years of experience and salaries."
   ]
  },
  {
   "cell_type": "code",
   "execution_count": 133,
   "id": "d87bf84a",
   "metadata": {},
   "outputs": [],
   "source": [
    "data = pd.read_excel('salary_dataset.xlsx')"
   ]
  },
  {
   "cell_type": "markdown",
   "id": "cd308bbd",
   "metadata": {},
   "source": [
    "## Preview the Data"
   ]
  },
  {
   "cell_type": "markdown",
   "id": "07f88168",
   "metadata": {},
   "source": [
    "We can look at only the first 5 rows of data using .head()\n",
    "\n",
    "one row = one employee\n",
    "\n",
    "So, the first employee has been working at the company for 1.1 years and has a salary of 39,343. The second has been working there for 1.3 years and has a salary of 46,205, and so on..."
   ]
  },
  {
   "cell_type": "code",
   "execution_count": 134,
   "id": "08fb2a36",
   "metadata": {},
   "outputs": [
    {
     "data": {
      "text/html": [
       "<div>\n",
       "<style scoped>\n",
       "    .dataframe tbody tr th:only-of-type {\n",
       "        vertical-align: middle;\n",
       "    }\n",
       "\n",
       "    .dataframe tbody tr th {\n",
       "        vertical-align: top;\n",
       "    }\n",
       "\n",
       "    .dataframe thead th {\n",
       "        text-align: right;\n",
       "    }\n",
       "</style>\n",
       "<table border=\"1\" class=\"dataframe\">\n",
       "  <thead>\n",
       "    <tr style=\"text-align: right;\">\n",
       "      <th></th>\n",
       "      <th>YearsExperience</th>\n",
       "      <th>Salary</th>\n",
       "    </tr>\n",
       "  </thead>\n",
       "  <tbody>\n",
       "    <tr>\n",
       "      <th>0</th>\n",
       "      <td>1.1</td>\n",
       "      <td>39343</td>\n",
       "    </tr>\n",
       "    <tr>\n",
       "      <th>1</th>\n",
       "      <td>1.3</td>\n",
       "      <td>46205</td>\n",
       "    </tr>\n",
       "    <tr>\n",
       "      <th>2</th>\n",
       "      <td>1.5</td>\n",
       "      <td>37731</td>\n",
       "    </tr>\n",
       "    <tr>\n",
       "      <th>3</th>\n",
       "      <td>2.0</td>\n",
       "      <td>43525</td>\n",
       "    </tr>\n",
       "    <tr>\n",
       "      <th>4</th>\n",
       "      <td>2.2</td>\n",
       "      <td>39891</td>\n",
       "    </tr>\n",
       "  </tbody>\n",
       "</table>\n",
       "</div>"
      ],
      "text/plain": [
       "   YearsExperience  Salary\n",
       "0              1.1   39343\n",
       "1              1.3   46205\n",
       "2              1.5   37731\n",
       "3              2.0   43525\n",
       "4              2.2   39891"
      ]
     },
     "execution_count": 134,
     "metadata": {},
     "output_type": "execute_result"
    }
   ],
   "source": [
    "data.head()"
   ]
  },
  {
   "cell_type": "markdown",
   "id": "010fedc7",
   "metadata": {},
   "source": [
    "We can quickly look at the last 5 rows (employees) by typing .tail()"
   ]
  },
  {
   "cell_type": "code",
   "execution_count": 135,
   "id": "25c2153a",
   "metadata": {},
   "outputs": [
    {
     "data": {
      "text/html": [
       "<div>\n",
       "<style scoped>\n",
       "    .dataframe tbody tr th:only-of-type {\n",
       "        vertical-align: middle;\n",
       "    }\n",
       "\n",
       "    .dataframe tbody tr th {\n",
       "        vertical-align: top;\n",
       "    }\n",
       "\n",
       "    .dataframe thead th {\n",
       "        text-align: right;\n",
       "    }\n",
       "</style>\n",
       "<table border=\"1\" class=\"dataframe\">\n",
       "  <thead>\n",
       "    <tr style=\"text-align: right;\">\n",
       "      <th></th>\n",
       "      <th>YearsExperience</th>\n",
       "      <th>Salary</th>\n",
       "    </tr>\n",
       "  </thead>\n",
       "  <tbody>\n",
       "    <tr>\n",
       "      <th>25</th>\n",
       "      <td>9.0</td>\n",
       "      <td>105582</td>\n",
       "    </tr>\n",
       "    <tr>\n",
       "      <th>26</th>\n",
       "      <td>9.5</td>\n",
       "      <td>116969</td>\n",
       "    </tr>\n",
       "    <tr>\n",
       "      <th>27</th>\n",
       "      <td>9.6</td>\n",
       "      <td>112635</td>\n",
       "    </tr>\n",
       "    <tr>\n",
       "      <th>28</th>\n",
       "      <td>10.3</td>\n",
       "      <td>122391</td>\n",
       "    </tr>\n",
       "    <tr>\n",
       "      <th>29</th>\n",
       "      <td>10.5</td>\n",
       "      <td>121872</td>\n",
       "    </tr>\n",
       "  </tbody>\n",
       "</table>\n",
       "</div>"
      ],
      "text/plain": [
       "    YearsExperience  Salary\n",
       "25              9.0  105582\n",
       "26              9.5  116969\n",
       "27              9.6  112635\n",
       "28             10.3  122391\n",
       "29             10.5  121872"
      ]
     },
     "execution_count": 135,
     "metadata": {},
     "output_type": "execute_result"
    }
   ],
   "source": [
    "data.tail()"
   ]
  },
  {
   "cell_type": "markdown",
   "id": "d1fa30d2",
   "metadata": {},
   "source": [
    "## Create a variable named 'x' which keeps all of the employee years of experience inside of it"
   ]
  },
  {
   "cell_type": "markdown",
   "id": "b9f9a245",
   "metadata": {},
   "source": [
    "Remember when we were trying to guess (predict) how tall you would be when you were 5, 6, 7, 8...years old?\n",
    "\n",
    "Well, instead of using **age** to predict **height**, we are using **Years of Experience** to predict **Salary**. \n",
    "\n",
    "To keep it simple we will call **Years of Experience**, **x**."
   ]
  },
  {
   "cell_type": "code",
   "execution_count": 136,
   "id": "f49f404a",
   "metadata": {},
   "outputs": [],
   "source": [
    "x = data[['YearsExperience']]"
   ]
  },
  {
   "cell_type": "markdown",
   "id": "1ef62d1d",
   "metadata": {},
   "source": [
    "## Create a variable named 'y' which keeps all of the employee salaries inside of it"
   ]
  },
  {
   "cell_type": "markdown",
   "id": "b9bd6aa9",
   "metadata": {},
   "source": [
    "Instead of predicting **height**, we are predicting **salaries**. Let's call it **y**."
   ]
  },
  {
   "cell_type": "code",
   "execution_count": 137,
   "id": "6eaa32e6",
   "metadata": {},
   "outputs": [],
   "source": [
    "y = data['Salary']"
   ]
  },
  {
   "cell_type": "markdown",
   "id": "fa0c46df",
   "metadata": {},
   "source": [
    "Earlier, we were using **Age** to predict **Height**, but now we are using **YearsExperience** to predict **Salary**, or we can say:\n",
    "\n",
    "We are using **x** to predict **y**.\n",
    "\n",
    "x and y could be anything. A weather person might use **Date** to predict **Temperature**, a company owner might use **December 2021 Sales** to predict **December 2022 Sales**, or a teacher might use **Amount of Time Student Spent Sleeping in Class** to **Students Final Grade** "
   ]
  },
  {
   "cell_type": "markdown",
   "id": "c467ae22",
   "metadata": {},
   "source": [
    "## Create our Machine Learning model"
   ]
  },
  {
   "cell_type": "markdown",
   "id": "6eb2f4f2",
   "metadata": {},
   "source": [
    "Next, we are going to create an empty (without our salary and experience data) Machine Learning Model."
   ]
  },
  {
   "cell_type": "code",
   "execution_count": 138,
   "id": "226f0681",
   "metadata": {},
   "outputs": [],
   "source": [
    "our_model = LinearRegression()"
   ]
  },
  {
   "cell_type": "markdown",
   "id": "96f651be",
   "metadata": {},
   "source": [
    "## Give the model some data (our employee experience and salary data)"
   ]
  },
  {
   "cell_type": "markdown",
   "id": "43cdced3",
   "metadata": {},
   "source": [
    "Then, we are going to put our variables inside of it so that the model can *learn* the patterns."
   ]
  },
  {
   "cell_type": "code",
   "execution_count": 139,
   "id": "b3eb214e",
   "metadata": {},
   "outputs": [
    {
     "data": {
      "text/plain": [
       "LinearRegression()"
      ]
     },
     "execution_count": 139,
     "metadata": {},
     "output_type": "execute_result"
    }
   ],
   "source": [
    "our_model.fit(x, y)"
   ]
  },
  {
   "cell_type": "markdown",
   "id": "08fc3f5d",
   "metadata": {},
   "source": [
    "## Predict the salary for an employee who has been working at this company for 15 years"
   ]
  },
  {
   "cell_type": "code",
   "execution_count": 140,
   "id": "ee48d8eb",
   "metadata": {},
   "outputs": [],
   "source": [
    "years = 15"
   ]
  },
  {
   "cell_type": "code",
   "execution_count": 141,
   "id": "a3110f31",
   "metadata": {},
   "outputs": [],
   "source": [
    "prediction = our_model.predict([[years]])"
   ]
  },
  {
   "cell_type": "markdown",
   "id": "5386a714",
   "metadata": {},
   "source": [
    "## Look at the prediction"
   ]
  },
  {
   "cell_type": "code",
   "execution_count": 142,
   "id": "85d698fe",
   "metadata": {},
   "outputs": [
    {
     "data": {
      "text/plain": [
       "array([167541.63502049])"
      ]
     },
     "execution_count": 142,
     "metadata": {},
     "output_type": "execute_result"
    }
   ],
   "source": [
    "prediction"
   ]
  },
  {
   "cell_type": "markdown",
   "id": "66169c15",
   "metadata": {},
   "source": [
    "## Now make it look nicer"
   ]
  },
  {
   "cell_type": "code",
   "execution_count": 144,
   "id": "f9d3401b",
   "metadata": {},
   "outputs": [
    {
     "name": "stdout",
     "output_type": "stream",
     "text": [
      "The salary for this employee would be 167542 dollars per year.\n"
     ]
    }
   ],
   "source": [
    "print(f'The salary for this employee would be {round(prediction[0])} dollars per year.')"
   ]
  },
  {
   "cell_type": "markdown",
   "id": "42b7cfd9",
   "metadata": {},
   "source": [
    "# What did the Machine Learning model learn?"
   ]
  },
  {
   "cell_type": "markdown",
   "id": "a47be219",
   "metadata": {},
   "source": [
    "Our model learned that if for every additional year an employee works at the company, their salary goes up by 9,450.\n",
    "\n",
    "We can check it by looking at something called a *coefficient*."
   ]
  },
  {
   "cell_type": "code",
   "execution_count": 145,
   "id": "d67e2ac2",
   "metadata": {},
   "outputs": [
    {
     "data": {
      "text/plain": [
       "9450"
      ]
     },
     "execution_count": 145,
     "metadata": {},
     "output_type": "execute_result"
    }
   ],
   "source": [
    "round(our_model.coef_[0])"
   ]
  },
  {
   "cell_type": "markdown",
   "id": "a5032a1b",
   "metadata": {},
   "source": [
    "Or...\n",
    "\n",
    "Here is an employee with 16 years experience salary."
   ]
  },
  {
   "cell_type": "code",
   "execution_count": 146,
   "id": "53b9948f",
   "metadata": {},
   "outputs": [],
   "source": [
    "prediction2 = our_model.predict([[16]])"
   ]
  },
  {
   "cell_type": "code",
   "execution_count": 147,
   "id": "f6d7f249",
   "metadata": {},
   "outputs": [
    {
     "data": {
      "text/plain": [
       "176992"
      ]
     },
     "execution_count": 147,
     "metadata": {},
     "output_type": "execute_result"
    }
   ],
   "source": [
    "round(prediction2[0])"
   ]
  },
  {
   "cell_type": "markdown",
   "id": "b17cf45e",
   "metadata": {},
   "source": [
    "And here is the difference between the employee with 16 years experience and the one with 15 years experience (1 year difference in experience)."
   ]
  },
  {
   "cell_type": "code",
   "execution_count": 148,
   "id": "bba0f02a",
   "metadata": {},
   "outputs": [],
   "source": [
    "difference = round(prediction2[0]) - round(prediction[0])"
   ]
  },
  {
   "cell_type": "markdown",
   "id": "02ff85b7",
   "metadata": {},
   "source": [
    "Can you guess what the difference in their salaries are?"
   ]
  },
  {
   "cell_type": "code",
   "execution_count": 149,
   "id": "ac4cc982",
   "metadata": {},
   "outputs": [
    {
     "data": {
      "text/plain": [
       "9450"
      ]
     },
     "execution_count": 149,
     "metadata": {},
     "output_type": "execute_result"
    }
   ],
   "source": [
    "difference"
   ]
  },
  {
   "cell_type": "markdown",
   "id": "bf3f00b4",
   "metadata": {},
   "source": [
    "# Your Turn"
   ]
  },
  {
   "cell_type": "markdown",
   "id": "cd8ab474",
   "metadata": {},
   "source": [
    "Now it's your turn. See how much you can do without going back to section 1. \n",
    "\n",
    "If you can't remember then feel free to look! Even the best programmers and machine learning engineers search Google for the answers when they forget something."
   ]
  },
  {
   "cell_type": "markdown",
   "id": "de3d48a8",
   "metadata": {},
   "source": [
    "## Load the data"
   ]
  },
  {
   "cell_type": "code",
   "execution_count": null,
   "id": "0bb427f6",
   "metadata": {},
   "outputs": [],
   "source": []
  },
  {
   "cell_type": "markdown",
   "id": "2c908768",
   "metadata": {},
   "source": [
    "## Preview the Data"
   ]
  },
  {
   "cell_type": "code",
   "execution_count": null,
   "id": "2726a316",
   "metadata": {},
   "outputs": [],
   "source": []
  },
  {
   "cell_type": "markdown",
   "id": "5ef8c8d9",
   "metadata": {},
   "source": [
    "## Create a variable named 'x' which keeps all of the employee years of experience inside of it"
   ]
  },
  {
   "cell_type": "code",
   "execution_count": null,
   "id": "347e181d",
   "metadata": {},
   "outputs": [],
   "source": []
  },
  {
   "cell_type": "markdown",
   "id": "69820049",
   "metadata": {},
   "source": [
    "## Create a variable named 'y' which keeps all of the employee salaries inside of it"
   ]
  },
  {
   "cell_type": "code",
   "execution_count": null,
   "id": "7bdfa0b9",
   "metadata": {},
   "outputs": [],
   "source": []
  },
  {
   "cell_type": "markdown",
   "id": "e45a9b98",
   "metadata": {},
   "source": [
    "## Create our Machine Learning model"
   ]
  },
  {
   "cell_type": "code",
   "execution_count": null,
   "id": "9d912dea",
   "metadata": {},
   "outputs": [],
   "source": []
  },
  {
   "cell_type": "markdown",
   "id": "837632b8",
   "metadata": {},
   "source": [
    "## Give the model some data (our employee experience and salary data)"
   ]
  },
  {
   "cell_type": "code",
   "execution_count": null,
   "id": "d02250a4",
   "metadata": {},
   "outputs": [],
   "source": []
  },
  {
   "cell_type": "markdown",
   "id": "2e65ae09",
   "metadata": {},
   "source": [
    "## Predict the salary for an employee who has been working at this company for 15 years"
   ]
  },
  {
   "cell_type": "code",
   "execution_count": null,
   "id": "9694f47d",
   "metadata": {},
   "outputs": [],
   "source": []
  },
  {
   "cell_type": "code",
   "execution_count": null,
   "id": "397bd669",
   "metadata": {},
   "outputs": [],
   "source": []
  },
  {
   "cell_type": "markdown",
   "id": "11796e63",
   "metadata": {},
   "source": [
    "## Look at the prediction"
   ]
  },
  {
   "cell_type": "code",
   "execution_count": null,
   "id": "9c99595c",
   "metadata": {},
   "outputs": [],
   "source": []
  },
  {
   "cell_type": "markdown",
   "id": "acd50540",
   "metadata": {},
   "source": [
    "## Now make it look nicer"
   ]
  },
  {
   "cell_type": "code",
   "execution_count": null,
   "id": "3840ac19",
   "metadata": {},
   "outputs": [],
   "source": []
  },
  {
   "cell_type": "markdown",
   "id": "e4a01376",
   "metadata": {},
   "source": [
    "##  BONUS! Play with the prediction a little"
   ]
  },
  {
   "cell_type": "markdown",
   "id": "2ccc7d5a",
   "metadata": {},
   "source": [
    "Go back to 2.7 and change the number in the **years** variable. What would the salary be for an employee with 5 years of experience, what about one with 1 year of experience, what about one with 0 years of experience?\n",
    "\n",
    "Finally, enter a negative number for the **years** variable. Does something seem weird about the prediction?"
   ]
  },
  {
   "cell_type": "code",
   "execution_count": null,
   "id": "796145e8",
   "metadata": {},
   "outputs": [],
   "source": []
  }
 ],
 "metadata": {
  "kernelspec": {
   "display_name": "Python 3 (ipykernel)",
   "language": "python",
   "name": "python3"
  },
  "language_info": {
   "codemirror_mode": {
    "name": "ipython",
    "version": 3
   },
   "file_extension": ".py",
   "mimetype": "text/x-python",
   "name": "python",
   "nbconvert_exporter": "python",
   "pygments_lexer": "ipython3",
   "version": "3.8.12"
  },
  "toc": {
   "base_numbering": 1,
   "nav_menu": {},
   "number_sections": true,
   "sideBar": true,
   "skip_h1_title": false,
   "title_cell": "Table of Contents",
   "title_sidebar": "Contents",
   "toc_cell": false,
   "toc_position": {},
   "toc_section_display": true,
   "toc_window_display": false
  }
 },
 "nbformat": 4,
 "nbformat_minor": 5
}
