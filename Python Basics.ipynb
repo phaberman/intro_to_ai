{
 "cells": [
  {
   "cell_type": "markdown",
   "id": "d19f93e1",
   "metadata": {},
   "source": [
    "# Python Basics"
   ]
  },
  {
   "cell_type": "markdown",
   "id": "7d3b50eb",
   "metadata": {},
   "source": [
    "First, let's learn some python basics.\n",
    "\n",
    "In this section we will learn about:\n",
    "\n",
    "- python strings (for words and sentences) and numerics (for math)\n",
    "- python variables"
   ]
  },
  {
   "cell_type": "markdown",
   "id": "72136029-e694-442d-a761-2ce46f4e88a4",
   "metadata": {},
   "source": [
    "## A Few Notes"
   ]
  },
  {
   "cell_type": "markdown",
   "id": "c88a6571-8938-4fe0-84bb-34cdbc727d5a",
   "metadata": {},
   "source": [
    "- how to add cells \n",
    "- how to delete cells\n",
    "- how to run cells\n",
    "- how to save a notebook"
   ]
  },
  {
   "cell_type": "markdown",
   "id": "531bd326",
   "metadata": {},
   "source": [
    "## Python Strings"
   ]
  },
  {
   "cell_type": "markdown",
   "id": "786ddb39",
   "metadata": {},
   "source": [
    "A python string is how we write words or sentences in a way the computer can understand. You can make anything a string in python by single '' or double \"\" quotes around it."
   ]
  },
  {
   "cell_type": "code",
   "execution_count": 36,
   "id": "e1969a0d",
   "metadata": {},
   "outputs": [
    {
     "data": {
      "text/plain": [
       "'Hello World!'"
      ]
     },
     "execution_count": 36,
     "metadata": {},
     "output_type": "execute_result"
    }
   ],
   "source": [
    "'Hello World!'"
   ]
  },
  {
   "cell_type": "code",
   "execution_count": 37,
   "id": "55a7acf1",
   "metadata": {},
   "outputs": [
    {
     "data": {
      "text/plain": [
       "'Wello Horld!'"
      ]
     },
     "execution_count": 37,
     "metadata": {},
     "output_type": "execute_result"
    }
   ],
   "source": [
    "\"Wello Horld!\""
   ]
  },
  {
   "cell_type": "markdown",
   "id": "5eb6e198",
   "metadata": {},
   "source": [
    "We can even add strings together with the + symbol."
   ]
  },
  {
   "cell_type": "code",
   "execution_count": 38,
   "id": "30f6d56d",
   "metadata": {},
   "outputs": [
    {
     "data": {
      "text/plain": [
       "'HelloWorld!'"
      ]
     },
     "execution_count": 38,
     "metadata": {},
     "output_type": "execute_result"
    }
   ],
   "source": [
    "'Hello' + 'World' + '!'"
   ]
  },
  {
   "cell_type": "markdown",
   "id": "bdfa063f",
   "metadata": {},
   "source": [
    "Watch out for spaces!"
   ]
  },
  {
   "cell_type": "code",
   "execution_count": 39,
   "id": "5e2818b2",
   "metadata": {},
   "outputs": [
    {
     "data": {
      "text/plain": [
       "'Hello World'"
      ]
     },
     "execution_count": 39,
     "metadata": {},
     "output_type": "execute_result"
    }
   ],
   "source": [
    "'Hello' + ' ' + 'World'"
   ]
  },
  {
   "cell_type": "markdown",
   "id": "d686f61c",
   "metadata": {},
   "source": [
    "You can even put numbers into between the quote markers. However, the computer will not know they are number and you can do math with them. Watch."
   ]
  },
  {
   "cell_type": "code",
   "execution_count": 40,
   "id": "f1e4168c",
   "metadata": {},
   "outputs": [
    {
     "data": {
      "text/plain": [
       "'11'"
      ]
     },
     "execution_count": 40,
     "metadata": {},
     "output_type": "execute_result"
    }
   ],
   "source": [
    "'1' + '1'"
   ]
  },
  {
   "cell_type": "markdown",
   "id": "39739680",
   "metadata": {},
   "source": [
    "1 + 1 did not equal 2. That is because it is actually adding the two strings together, not doing addition. We will get into math next."
   ]
  },
  {
   "cell_type": "markdown",
   "id": "624c7c38",
   "metadata": {},
   "source": [
    "## Python Numerics (and math)"
   ]
  },
  {
   "cell_type": "markdown",
   "id": "4d692259",
   "metadata": {},
   "source": [
    "You can do all kinds of math operations with Python.\n",
    "\n",
    "This time, do NOT put '' or \"\" around the numbers.\n",
    "\n",
    "We will only look at the basic ones:\n",
    "\n",
    "- addition\n",
    "- subtraction\n",
    "- multiplication\n",
    "- division\n",
    "- exponents"
   ]
  },
  {
   "cell_type": "markdown",
   "id": "84772e7c",
   "metadata": {},
   "source": [
    "**Addition**"
   ]
  },
  {
   "cell_type": "code",
   "execution_count": 41,
   "id": "9276d941",
   "metadata": {},
   "outputs": [
    {
     "data": {
      "text/plain": [
       "2"
      ]
     },
     "execution_count": 41,
     "metadata": {},
     "output_type": "execute_result"
    }
   ],
   "source": [
    "1 + 1"
   ]
  },
  {
   "cell_type": "code",
   "execution_count": 42,
   "id": "868d8a6b-ad6e-437d-a4e7-f12c4c80e862",
   "metadata": {},
   "outputs": [],
   "source": [
    "# Now you do it. Add a few numbers together and run the cell\n"
   ]
  },
  {
   "cell_type": "markdown",
   "id": "7df8c154",
   "metadata": {},
   "source": [
    "**Subtraction**"
   ]
  },
  {
   "cell_type": "code",
   "execution_count": 43,
   "id": "31f1934f",
   "metadata": {},
   "outputs": [
    {
     "data": {
      "text/plain": [
       "1"
      ]
     },
     "execution_count": 43,
     "metadata": {},
     "output_type": "execute_result"
    }
   ],
   "source": [
    "2 - 1"
   ]
  },
  {
   "cell_type": "code",
   "execution_count": 44,
   "id": "d85ef969-4130-4380-8519-641f4c380efe",
   "metadata": {},
   "outputs": [],
   "source": [
    "# Now you do it. Subtract a few numbers and run the cell\n"
   ]
  },
  {
   "cell_type": "markdown",
   "id": "e13edbe8",
   "metadata": {},
   "source": [
    "**Multiplication**"
   ]
  },
  {
   "cell_type": "code",
   "execution_count": 45,
   "id": "6686e7d3",
   "metadata": {},
   "outputs": [
    {
     "data": {
      "text/plain": [
       "10"
      ]
     },
     "execution_count": 45,
     "metadata": {},
     "output_type": "execute_result"
    }
   ],
   "source": [
    "2 * 5"
   ]
  },
  {
   "cell_type": "code",
   "execution_count": 46,
   "id": "69b25cbe-6561-408e-a1ba-5ac88a75541d",
   "metadata": {},
   "outputs": [],
   "source": [
    "# Now you do it. Multiply a few numbers together and run the cell\n"
   ]
  },
  {
   "cell_type": "markdown",
   "id": "32854ca6",
   "metadata": {},
   "source": [
    "**Division**"
   ]
  },
  {
   "cell_type": "code",
   "execution_count": 47,
   "id": "9e7ce61d",
   "metadata": {},
   "outputs": [
    {
     "data": {
      "text/plain": [
       "5.0"
      ]
     },
     "execution_count": 47,
     "metadata": {},
     "output_type": "execute_result"
    }
   ],
   "source": [
    "10 / 2"
   ]
  },
  {
   "cell_type": "code",
   "execution_count": 48,
   "id": "05825cb0-cf4c-4fac-9bd9-a5aa3f086ea7",
   "metadata": {},
   "outputs": [],
   "source": [
    "# Now you do it. Divide a few numbers and run the cell\n"
   ]
  },
  {
   "cell_type": "markdown",
   "id": "cdca5728",
   "metadata": {},
   "source": [
    "**Exponents**"
   ]
  },
  {
   "cell_type": "code",
   "execution_count": 49,
   "id": "70588e74",
   "metadata": {},
   "outputs": [
    {
     "data": {
      "text/plain": [
       "16"
      ]
     },
     "execution_count": 49,
     "metadata": {},
     "output_type": "execute_result"
    }
   ],
   "source": [
    "2**4"
   ]
  },
  {
   "cell_type": "code",
   "execution_count": 50,
   "id": "61eb91c6-2ced-4932-a083-200cba7dfcc8",
   "metadata": {},
   "outputs": [],
   "source": [
    "# Now you do it\n"
   ]
  },
  {
   "cell_type": "code",
   "execution_count": 51,
   "id": "1427bf7a-1b7b-4552-9817-1f8bdc8745cd",
   "metadata": {},
   "outputs": [],
   "source": [
    "# Bonus: What happens if you multiply a string? For example 'Your Name' * 3\n"
   ]
  },
  {
   "cell_type": "markdown",
   "id": "d6712034",
   "metadata": {},
   "source": [
    "## Python Variables"
   ]
  },
  {
   "cell_type": "markdown",
   "id": "af7cab6e",
   "metadata": {},
   "source": [
    "Imagine a Python variable as being like a box. You put a label on the outside of a box that says 'Books', then you can fill the box with books and close it. You can always open the box and inside find the books the placed inside of it. \n",
    "\n",
    "Python variables are useful when we don't want to write the same things over and over again.\n",
    "\n",
    "Here is how a variable works:\n",
    "\n",
    "1. give the variable a name (the label for the box)(to keep it simple, use all lower case letters, no numbers, and no spaces in your variable name)\n",
    "2. after the name, type an equals sign\n",
    "3. after the equals sign, type anything you want (a string, a number, or a math expression like 1 + 1)\n",
    "4. press **Shift + Enter** to save the variable"
   ]
  },
  {
   "cell_type": "code",
   "execution_count": 52,
   "id": "cbff200b",
   "metadata": {},
   "outputs": [],
   "source": [
    "name = 'Phillip'"
   ]
  },
  {
   "cell_type": "markdown",
   "id": "75fb3154",
   "metadata": {},
   "source": [
    "We've created a variable called **name** and we've put a name inside of it.\n",
    "\n",
    "Now, we can type **name** and see what happens..."
   ]
  },
  {
   "cell_type": "code",
   "execution_count": 53,
   "id": "5b24a608",
   "metadata": {},
   "outputs": [
    {
     "data": {
      "text/plain": [
       "'Phillip'"
      ]
     },
     "execution_count": 53,
     "metadata": {},
     "output_type": "execute_result"
    }
   ],
   "source": [
    "name"
   ]
  },
  {
   "cell_type": "markdown",
   "id": "55d31854-6aeb-4a97-a256-19c0d5664538",
   "metadata": {},
   "source": [
    "We can do the same with numerics."
   ]
  },
  {
   "cell_type": "code",
   "execution_count": 54,
   "id": "171219c5-3d76-4c77-a4d2-7d18d963c2ae",
   "metadata": {},
   "outputs": [],
   "source": [
    "old_students = 10"
   ]
  },
  {
   "cell_type": "code",
   "execution_count": 55,
   "id": "f6f4c65f-ece5-4ba4-bed5-b0cd0774e41c",
   "metadata": {},
   "outputs": [
    {
     "data": {
      "text/plain": [
       "10"
      ]
     },
     "execution_count": 55,
     "metadata": {},
     "output_type": "execute_result"
    }
   ],
   "source": [
    "old_students"
   ]
  },
  {
   "cell_type": "code",
   "execution_count": 56,
   "id": "ca28f78b-4ef5-4999-9375-68504a5dbc64",
   "metadata": {},
   "outputs": [],
   "source": [
    "new_students = 10"
   ]
  },
  {
   "cell_type": "code",
   "execution_count": 57,
   "id": "3b63ce31-9b91-41c2-8fb9-0fb052395b4f",
   "metadata": {},
   "outputs": [
    {
     "data": {
      "text/plain": [
       "10"
      ]
     },
     "execution_count": 57,
     "metadata": {},
     "output_type": "execute_result"
    }
   ],
   "source": [
    "new_students"
   ]
  },
  {
   "cell_type": "code",
   "execution_count": 58,
   "id": "97ece29e-4bb6-4ad6-8c5c-716bb283078f",
   "metadata": {},
   "outputs": [
    {
     "data": {
      "text/plain": [
       "20"
      ]
     },
     "execution_count": 58,
     "metadata": {},
     "output_type": "execute_result"
    }
   ],
   "source": [
    "old_students + new_students"
   ]
  },
  {
   "cell_type": "markdown",
   "id": "752fe104-ea0b-40c3-a2f7-e5706c3aa80f",
   "metadata": {},
   "source": [
    "We can even save that into a new variable called 'total_students'."
   ]
  },
  {
   "cell_type": "code",
   "execution_count": 59,
   "id": "130edfc3-0d49-4ccc-a25a-676addbbc549",
   "metadata": {},
   "outputs": [],
   "source": [
    "total_students = old_students + new_students"
   ]
  },
  {
   "cell_type": "code",
   "execution_count": 60,
   "id": "b293cb95-d104-4a99-b3fc-4cf337946cbc",
   "metadata": {},
   "outputs": [
    {
     "data": {
      "text/plain": [
       "20"
      ]
     },
     "execution_count": 60,
     "metadata": {},
     "output_type": "execute_result"
    }
   ],
   "source": [
    "total_students"
   ]
  },
  {
   "cell_type": "markdown",
   "id": "0adbf75f",
   "metadata": {},
   "source": [
    "## Your Turn"
   ]
  },
  {
   "cell_type": "markdown",
   "id": "f204904b",
   "metadata": {},
   "source": [
    "1. create a variable called **name** with your name in it"
   ]
  },
  {
   "cell_type": "code",
   "execution_count": null,
   "id": "9efa9f10",
   "metadata": {},
   "outputs": [],
   "source": []
  },
  {
   "cell_type": "markdown",
   "id": "ff817f0e",
   "metadata": {},
   "source": [
    "2. create a variable called **age** with your age in it"
   ]
  },
  {
   "cell_type": "code",
   "execution_count": null,
   "id": "61db3012",
   "metadata": {},
   "outputs": [],
   "source": []
  },
  {
   "cell_type": "markdown",
   "id": "11242c72",
   "metadata": {},
   "source": [
    "3. now, using the variables you just created, create a new variable called 'sentence' and inside of it make this sentence: *My name is YOUR NAME and I am YOUR AGE years old*"
   ]
  },
  {
   "cell_type": "code",
   "execution_count": null,
   "id": "682ae9be-38bc-4347-9b62-702ebc7a10aa",
   "metadata": {},
   "outputs": [],
   "source": []
  },
  {
   "cell_type": "markdown",
   "id": "f22b8c33",
   "metadata": {},
   "source": [
    "4. BONUS: Calculate how many minutes old you are"
   ]
  },
  {
   "cell_type": "code",
   "execution_count": null,
   "id": "e3ecb30c",
   "metadata": {},
   "outputs": [],
   "source": []
  }
 ],
 "metadata": {
  "kernelspec": {
   "display_name": "Python 3 (ipykernel)",
   "language": "python",
   "name": "python3"
  },
  "language_info": {
   "codemirror_mode": {
    "name": "ipython",
    "version": 3
   },
   "file_extension": ".py",
   "mimetype": "text/x-python",
   "name": "python",
   "nbconvert_exporter": "python",
   "pygments_lexer": "ipython3",
   "version": "3.8.12"
  },
  "toc": {
   "base_numbering": 1,
   "nav_menu": {},
   "number_sections": true,
   "sideBar": true,
   "skip_h1_title": false,
   "title_cell": "Table of Contents",
   "title_sidebar": "Contents",
   "toc_cell": false,
   "toc_position": {},
   "toc_section_display": true,
   "toc_window_display": false
  }
 },
 "nbformat": 4,
 "nbformat_minor": 5
}
